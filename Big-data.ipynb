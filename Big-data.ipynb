{
 "cells": [
  {
   "cell_type": "markdown",
   "id": "f6b4415d",
   "metadata": {},
   "source": [
    "## Working with RDD"
   ]
  },
  {
   "cell_type": "markdown",
   "id": "5b7687a4",
   "metadata": {},
   "source": [
    "In this section, you will need to create RDDs from the given datasets, perform partitioning in\n",
    "these RDDs and use various RDD operations to answer the queries for trip analysis."
   ]
  },
  {
   "cell_type": "markdown",
   "id": "6a9a48d5",
   "metadata": {},
   "source": [
    "## 1.1 Data Preparation and Loading"
   ]
  },
  {
   "cell_type": "markdown",
   "id": "7cb5dac0",
   "metadata": {},
   "source": [
    "#### 1.1.1 Write the code to create a SparkContext object using SparkSession, which tells Spark\n",
    "how to access a cluster. To create a SparkSession you first need to build a SparkConf\n",
    "object that contains information about your application. Give an appropriate name for\n",
    "your application and run Spark locally with as many working processors as logical cores\n",
    "on your machine.\n",
    "You should create a folder which is called “data”, three csv files contained in this\n",
    "“data” folder. The “Assignment_1.ipynb” file should be created outside the data folder\n",
    "to make the consistency for every student. See the attached image to find how to\n",
    "store your data files and create your assignment_1 file."
   ]
  },
  {
   "cell_type": "code",
   "execution_count": 1,
   "id": "eb12a7b8",
   "metadata": {},
   "outputs": [
    {
     "name": "stderr",
     "output_type": "stream",
     "text": [
      "WARNING: An illegal reflective access operation has occurred\n",
      "WARNING: Illegal reflective access by org.apache.spark.unsafe.Platform (file:/usr/local/lib/python3.8/dist-packages/pyspark/jars/spark-unsafe_2.12-3.0.0.jar) to constructor java.nio.DirectByteBuffer(long,int)\n",
      "WARNING: Please consider reporting this to the maintainers of org.apache.spark.unsafe.Platform\n",
      "WARNING: Use --illegal-access=warn to enable warnings of further illegal reflective access operations\n",
      "WARNING: All illegal access operations will be denied in a future release\n",
      "22/08/26 12:05:41 WARN NativeCodeLoader: Unable to load native-hadoop library for your platform... using builtin-java classes where applicable\n",
      "Using Spark's default log4j profile: org/apache/spark/log4j-defaults.properties\n",
      "Setting default log level to \"WARN\".\n",
      "To adjust logging level use sc.setLogLevel(newLevel). For SparkR, use setLogLevel(newLevel).\n"
     ]
    }
   ],
   "source": [
    "# 1.1.1\n",
    "\n",
    "# Import libraries needed from pyspark\n",
    "from pyspark import SparkConf\n",
    "from pyspark.sql import SparkSession  # Spark \n",
    "\n",
    "# Create Spark Configuration Object\n",
    "master = \"local[*]\"\n",
    "app_name = \"Assignment-1\"\n",
    "\n",
    "spark_conf = SparkConf().setMaster(master).setAppName(app_name)\n",
    "\n",
    "# SparkSession\n",
    "\n",
    "spark = SparkSession.builder.config(conf=spark_conf).getOrCreate()\n",
    "sc = spark.sparkContext\n"
   ]
  },
  {
   "cell_type": "markdown",
   "id": "ec526325",
   "metadata": {},
   "source": [
    "#### 1.1.2  Import all the “Trip” csv files into a single RDD. \n",
    "\n",
    "#### 1.1.4 For both Trip and Passenger, remove the header rows and display the total count and first 5 records."
   ]
  },
  {
   "cell_type": "code",
   "execution_count": 2,
   "id": "aaec28b7",
   "metadata": {},
   "outputs": [
    {
     "name": "stdout",
     "output_type": "stream",
     "text": [
      "Total partitions: 6\n"
     ]
    },
    {
     "name": "stderr",
     "output_type": "stream",
     "text": [
      "[Stage 1:=======================================>                   (4 + 2) / 6]\r"
     ]
    },
    {
     "name": "stdout",
     "output_type": "stream",
     "text": [
      "Number of lines in trip data: 2318357\n"
     ]
    },
    {
     "name": "stderr",
     "output_type": "stream",
     "text": [
      "                                                                                \r"
     ]
    },
    {
     "data": {
      "text/plain": [
       "['a84c0db2,cb64172e,2ea4359d,43006,9/8/2019 10:01:28 PM,9/8/2019 10:15:54 PM,0.3,1.92,4.36',\n",
       " 'a84c2d10,3034e6fe,e1bd0c8d,43006,7/1/2019 8:56:28 PM,7/1/2019 9:22:09 PM,0,9.36,6.91',\n",
       " 'a84c3e75,93fb6802,75e6d450,43050,8/20/2019 9:30:46 PM,8/20/2019 9:46:48 PM,0,4.39,3.48',\n",
       " 'a84c3f6f,25fc9273,5ba48e89,43020,9/8/2019 2:42:41 AM,9/8/2019 2:59:56 AM,0,2.04,1.54',\n",
       " 'a84c5ce2,484c4d0c,fdb2ef59,43006,6/10/2019 9:29:18 AM,6/10/2019 9:55:36 AM,0,7.37,5.83']"
      ]
     },
     "execution_count": 2,
     "metadata": {},
     "output_type": "execute_result"
    }
   ],
   "source": [
    "# read a txt file\n",
    "\n",
    "# import OS to get path of the files\n",
    "import os\n",
    "\n",
    "# trip data RDD\n",
    "trip_data = sc.textFile(os.getcwd() + \"/data/trip.csv\")\n",
    "\n",
    "# getting the header\n",
    "header_trip = trip_data.first()\n",
    "\n",
    "# Removing header \n",
    "trip_data = trip_data.filter(lambda row: row != header_trip)\n",
    "print(f\"Total partitions: {trip_data.getNumPartitions()}\")\n",
    "print(f\"Number of lines in trip data: {trip_data.count()}\")\n",
    "\n",
    "# printing top five data\n",
    "trip_data.take(5)\n"
   ]
  },
  {
   "cell_type": "markdown",
   "id": "46517c17",
   "metadata": {},
   "source": [
    "#### 1.1.3  Import all the “Passenger” csv files into a single RDD. "
   ]
  },
  {
   "cell_type": "code",
   "execution_count": 3,
   "id": "38f13083",
   "metadata": {},
   "outputs": [
    {
     "name": "stdout",
     "output_type": "stream",
     "text": [
      "Total partitions: 2\n",
      "Number of lines in Passenger data: 1235782\n"
     ]
    },
    {
     "name": "stderr",
     "output_type": "stream",
     "text": [
      "                                                                                \r"
     ]
    },
    {
     "data": {
      "text/plain": [
       "['00000fab,5/11/2019 8:23:54 PM',\n",
       " '0000149d,12/24/2018 9:21:33 PM',\n",
       " '00002b66,9/20/2018 9:08:24 PM',\n",
       " '00002bc7,7/28/2019 11:27:56 AM',\n",
       " '0000332e,2/21/2019 11:34:24 PM']"
      ]
     },
     "execution_count": 3,
     "metadata": {},
     "output_type": "execute_result"
    }
   ],
   "source": [
    "# passenger_data RDD\n",
    "passenger_data = sc.textFile(os.getcwd() + \"/data/passenger.csv\")\n",
    "\n",
    "# get the first record in RDD\n",
    "header_passenger = passenger_data.first()\n",
    "\n",
    "# removing header from the RDD\n",
    "passenger_data = passenger_data.filter(lambda row: row != header_passenger)  # filter out header\n",
    "print(f\"Total partitions: {passenger_data.getNumPartitions()}\")\n",
    "print(f\"Number of lines in Passenger data: {passenger_data.count()}\")\n",
    "\n",
    "# printing the top five record\n",
    "passenger_data.take(5)\n"
   ]
  },
  {
   "cell_type": "markdown",
   "id": "c1c92575",
   "metadata": {},
   "source": [
    "## Data Partitioning in RDD"
   ]
  },
  {
   "cell_type": "markdown",
   "id": "f1533fed",
   "metadata": {},
   "source": [
    "### \n",
    "1. How many partitions do the above RDDs have? How is the data in these RDDs\n",
    "partitioned by default, when we do not explicitly specify any partitioning strategy?\n",
    "\n",
    "2. In the “Passenger” csv dataset, there is a column called first_call_time which shows the\n",
    "called time of the passenger.\n",
    "\n",
    "a. Create a Key Value Pair RDD of passenger data, with the key as 'In 2019' or\n",
    "'Not In 2019' dependent on whether the first call time happened in\n",
    "2019('first_call_time' column) and the rest of the other columns as the value.\n",
    "After that, print the first 5 records.\n",
    "\n",
    "b. Assume we want to keep all the data related to 2019 in one partition and keep\n",
    "the other year’s data in another partition. Write the code to implement this\n",
    "partitioning in RDD using appropriate partitioning functions. (Explain which\n",
    "partition strategy you used?)\n",
    "\n",
    "c. Write the code to print the number of records in each partition. "
   ]
  },
  {
   "cell_type": "markdown",
   "id": "05b237cd",
   "metadata": {},
   "source": [
    "### 1.2.1 \n",
    "Above RDD has 6 partitions for trip and 2 partitions for passenger data. Default starategy when no partitioning strategy is given \n",
    "\n",
    "RDD partitioning <a class=\"anchor\" id=\"three\"></a>\n",
    "\n",
    "By default, Spark partitions the data using <strong>Random equal partitioning</strong> unless there are specific transformations that uses a different type of partitioning</strong>\n"
   ]
  },
  {
   "cell_type": "code",
   "execution_count": 4,
   "id": "02a2afb9",
   "metadata": {},
   "outputs": [
    {
     "data": {
      "text/plain": [
       "[('In 2019', '00000fab,5/11/2019 8:23:54 PM'),\n",
       " ('Not In 2019', '0000149d,12/24/2018 9:21:33 PM'),\n",
       " ('Not In 2019', '00002b66,9/20/2018 9:08:24 PM'),\n",
       " ('In 2019', '00002bc7,7/28/2019 11:27:56 AM'),\n",
       " ('In 2019', '0000332e,2/21/2019 11:34:24 PM')]"
      ]
     },
     "execution_count": 4,
     "metadata": {},
     "output_type": "execute_result"
    }
   ],
   "source": [
    "# 1.2.a\n",
    "\n",
    "# function to make key value pair\n",
    "def year_wise_separate(rdd):\n",
    "    if rdd.split(\",\")[1] != \"\":\n",
    "        if rdd.split(\",\")[1].split(\" \")[0].split(\"/\")[2] == \"2019\":\n",
    "            return \"In 2019\", rdd\n",
    "    return \"Not In 2019\", rdd\n",
    "\n",
    "\n",
    "update_passenger_data = passenger_data.map(year_wise_separate)\n",
    "update_passenger_data.take(5)\n"
   ]
  },
  {
   "cell_type": "markdown",
   "id": "3543c4fc",
   "metadata": {},
   "source": [
    "#### We are using hash function as we have to divide the data based on a condition on key In 2019 or Not in 2019"
   ]
  },
  {
   "cell_type": "code",
   "execution_count": 5,
   "id": "66a5518e",
   "metadata": {},
   "outputs": [],
   "source": [
    "# 1.2.b\n",
    "\n",
    "# making two partitions\n",
    "no_of_partitions = 2\n",
    "\n",
    "\n",
    "def hash_function(key):\n",
    "    if key == \"In 2019\":\n",
    "        return 2\n",
    "    return 1\n",
    "\n",
    "\n",
    "hash_partitioned_rdd = update_passenger_data.partitionBy(no_of_partitions, hash_function)\n"
   ]
  },
  {
   "cell_type": "code",
   "execution_count": 6,
   "id": "1de85239",
   "metadata": {},
   "outputs": [
    {
     "name": "stderr",
     "output_type": "stream",
     "text": [
      "                                                                                \r"
     ]
    },
    {
     "name": "stdout",
     "output_type": "stream",
     "text": [
      "####### NUMBER OF PARTITIONS: 2\n",
      "Partition 0: 556856 records\n",
      "Partition 1: 678926 records\n"
     ]
    }
   ],
   "source": [
    "# 1.2.c\n",
    "from pyspark.rdd import RDD\n",
    "# function to display the partition\n",
    "def print_partitions(data):\n",
    "    if isinstance(data, RDD):\n",
    "        numPartitions = data.getNumPartitions()\n",
    "        partitions = data.glom().collect()\n",
    "    else:\n",
    "        numPartitions = data.rdd.getNumPartitions()\n",
    "        partitions = data.rdd.glom().collect()\n",
    "\n",
    "    print(f\"####### NUMBER OF PARTITIONS: {numPartitions}\")\n",
    "    for index, partition in enumerate(partitions):\n",
    "        # show partition if it is not empty\n",
    "        if len(partition) > 0:\n",
    "            print(f\"Partition {index}: {len(partition)} records\")\n",
    "\n",
    "\n",
    "print_partitions(hash_partitioned_rdd)\n"
   ]
  },
  {
   "cell_type": "markdown",
   "id": "0c357eb7",
   "metadata": {},
   "source": [
    "## 1.3 Query/Analysis"
   ]
  },
  {
   "cell_type": "markdown",
   "id": "73c27a6e",
   "metadata": {},
   "source": [
    "For the Trip RDD, write relevant RDD operations to answer the following queries.\n",
    "1. There are 2 columns called \"trip_distance\" and \"surge_rate\", which show the\n",
    "distance and surge rate of that trip. Filter the trip RDD which if any column of them is\n",
    "empty. Show the count before and after filtering.\n",
    "\n",
    "2. Calculate the average surge rate for each city. (Hint: you can use 'city_id' directly)\n",
    "\n",
    "3. Find the driver id who has the max and min trip distance. Also, print out all other trips\n",
    "they made. (Hint: Filter the negative value of trip distance and for the driver who has\n",
    "the min trip distance, only finding one driver is enough for this question)"
   ]
  },
  {
   "cell_type": "code",
   "execution_count": 7,
   "id": "8ca77346",
   "metadata": {},
   "outputs": [
    {
     "name": "stderr",
     "output_type": "stream",
     "text": [
      "                                                                                \r"
     ]
    },
    {
     "name": "stdout",
     "output_type": "stream",
     "text": [
      "Total count in Trip csv before filtering  2318357\n"
     ]
    },
    {
     "name": "stderr",
     "output_type": "stream",
     "text": [
      "[Stage 10:======================================>                   (4 + 2) / 6]\r"
     ]
    },
    {
     "name": "stdout",
     "output_type": "stream",
     "text": [
      "Total count in Trip csv After filtering  2295112\n"
     ]
    },
    {
     "name": "stderr",
     "output_type": "stream",
     "text": [
      "                                                                                \r"
     ]
    },
    {
     "data": {
      "text/plain": [
       "['a84c0db2,cb64172e,2ea4359d,43006,9/8/2019 10:01:28 PM,9/8/2019 10:15:54 PM,0.3,1.92,4.36',\n",
       " 'a84c2d10,3034e6fe,e1bd0c8d,43006,7/1/2019 8:56:28 PM,7/1/2019 9:22:09 PM,0,9.36,6.91',\n",
       " 'a84c3e75,93fb6802,75e6d450,43050,8/20/2019 9:30:46 PM,8/20/2019 9:46:48 PM,0,4.39,3.48',\n",
       " 'a84c3f6f,25fc9273,5ba48e89,43020,9/8/2019 2:42:41 AM,9/8/2019 2:59:56 AM,0,2.04,1.54',\n",
       " 'a84c5ce2,484c4d0c,fdb2ef59,43006,6/10/2019 9:29:18 AM,6/10/2019 9:55:36 AM,0,7.37,5.83']"
      ]
     },
     "execution_count": 7,
     "metadata": {},
     "output_type": "execute_result"
    }
   ],
   "source": [
    "# 1.3.1\n",
    "\n",
    "# printing the count before the filtering\n",
    "\n",
    "print(\"Total count in Trip csv before filtering \", trip_data.count())\n",
    "\n",
    "\n",
    "# function to filter the data\n",
    "def filter_data(trip):\n",
    "    split_data = trip.split(\",\")\n",
    "    if split_data[6] and split_data[7]:\n",
    "        return True\n",
    "    return False\n",
    "\n",
    "\n",
    "# using filter transformation to filter the data\n",
    "filtered_data = trip_data.filter(filter_data)\n",
    "\n",
    "# print the count after filtering\n",
    "print(\"Total count in Trip csv After filtering \", filtered_data.count())\n",
    "filtered_data.take(5)\n"
   ]
  },
  {
   "cell_type": "code",
   "execution_count": 8,
   "id": "72c1a8d8",
   "metadata": {},
   "outputs": [
    {
     "name": "stderr",
     "output_type": "stream",
     "text": [
      "                                                                                \r"
     ]
    },
    {
     "data": {
      "text/plain": [
       "[('43020', 0.03600285427063479),\n",
       " ('43050', 0.05545981386673684),\n",
       " ('43278', 0.022864212716075583),\n",
       " ('43116', 0.059504653033246084),\n",
       " ('43006', 0.03495577782547935),\n",
       " ('43179', 0.07075066034400256)]"
      ]
     },
     "execution_count": 8,
     "metadata": {},
     "output_type": "execute_result"
    }
   ],
   "source": [
    "# 1.3.2\n",
    "\n",
    "# function to count the total and total surge rate\n",
    "def sum_surge(a, b):\n",
    "    if a[1] == \"\" or b[1] == \"\":\n",
    "        a[1] = 0\n",
    "        b[1] = 0\n",
    "    return [a[0] + b[0], float(a[1]) + float(b[1])]\n",
    "\n",
    "\n",
    "# using map creating key value pair where key is city_id and value as list of constant 1 and surge rate\n",
    "# use reduceByKey to total count and total surge rate\n",
    "key_count = filtered_data.map(lambda x: (x.split(\",\")[3], [1, x.split(\",\")[6]])).reduceByKey(sum_surge)\n",
    "\n",
    "# use mapValues to calculate average \n",
    "average = key_count.mapValues(lambda x: x[1] / x[0])\n",
    "\n",
    "# printing top 7 values\n",
    "average.take(7)\n"
   ]
  },
  {
   "cell_type": "code",
   "execution_count": 9,
   "id": "ea620585",
   "metadata": {},
   "outputs": [
    {
     "name": "stderr",
     "output_type": "stream",
     "text": [
      "                                                                                \r"
     ]
    },
    {
     "name": "stdout",
     "output_type": "stream",
     "text": [
      "The record with maximum trip distance\n",
      "\n",
      "7874da3e,c11c5e2b,8c69341a,43278,5/15/2019 9:33:10 PM,5/15/2019 11:18:40 PM,0,99.19,62.7\n"
     ]
    },
    {
     "name": "stderr",
     "output_type": "stream",
     "text": [
      "                                                                                \r"
     ]
    },
    {
     "name": "stdout",
     "output_type": "stream",
     "text": [
      "The record with minimum trip distance\n",
      "\n",
      "aa952000,c9f9cb25,72492474,43179,5/5/2019 1:28:27 PM,5/5/2019 1:41:10 PM,0.3,-0.01,4.56\n",
      "All other trips they made are:\n",
      "\n"
     ]
    },
    {
     "name": "stderr",
     "output_type": "stream",
     "text": [
      "                                                                                \r"
     ]
    },
    {
     "data": {
      "text/plain": [
       "['aa952000,c9f9cb25,72492474,43179,5/5/2019 1:28:27 PM,5/5/2019 1:41:10 PM,0.3,-0.01,4.56',\n",
       " 'c7c0fb38,c9f9cb25,8ab17914,43179,6/25/2019 3:29:05 AM,6/25/2019 4:18:59 AM,0,29.33,18.44',\n",
       " 'c95ccea6,c9f9cb25,8bccca37,43179,6/1/2019 9:48:54 AM,6/1/2019 9:55:32 AM,0,2.06,2.74',\n",
       " 'c9e9670c,c9f9cb25,ea83cf12,43179,6/25/2019 5:05:54 AM,6/25/2019 5:19:59 AM,0,1.58,3.11',\n",
       " 'e853e18e,c9f9cb25,6d4ac9a4,43179,7/9/2019 4:08:20 AM,7/9/2019 4:33:57 AM,0,9.02,3.04',\n",
       " '0b3fb3c1,c9f9cb25,6fc3504f,43179,9/7/2019 10:49:55 AM,9/7/2019 10:58:36 AM,0,1.8,1.76',\n",
       " '2a744b90,c9f9cb25,c42d7e8a,43179,9/13/2019 7:10:35 AM,9/13/2019 7:35:30 AM,0,7.48,5.24',\n",
       " '383651da,c11c5e2b,7545bdca,43278,9/20/2019 11:45:57 PM,9/21/2019 12:33:18 AM,0,22.31,14.49',\n",
       " '6ddfcaf4,c9f9cb25,774d524f,43179,8/11/2019 5:34:18 AM,8/11/2019 6:03:57 AM,0.4,4.28,4.5',\n",
       " '85ab11bb,c11c5e2b,086dac13,43278,9/17/2019 5:46:13 PM,9/17/2019 5:57:21 PM,0,2.51,3.86',\n",
       " '8b3ba126,c11c5e2b,8efcd866,43278,5/18/2019 2:07:42 AM,5/18/2019 2:20:55 AM,0,2.73,3.22',\n",
       " '9256163f,c9f9cb25,1c9fc5c1,43179,9/7/2019 8:42:22 AM,9/7/2019 9:04:16 AM,0,5.32,1.88',\n",
       " 'a9d362a2,c9f9cb25,cb58539e,43179,6/13/2019 9:20:48 PM,6/13/2019 10:00:30 PM,0.6,10.03,8.44',\n",
       " 'b6ba6453,c9f9cb25,39a7870d,43179,9/20/2019 1:02:53 AM,9/20/2019 1:07:12 AM,0,0.2,2.15',\n",
       " 'bd720fe3,c9f9cb25,3c190e04,43179,9/9/2019 7:23:52 AM,9/9/2019 7:48:42 AM,0,5.97,3.24',\n",
       " 'bd815c6c,c9f9cb25,c351158b,43179,5/13/2019 6:52:47 AM,5/13/2019 7:07:28 AM,0.6,1.57,2.53',\n",
       " '005f0418,c9f9cb25,69f4950b,43179,6/23/2019 4:55:07 AM,6/23/2019 5:25:39 AM,0,11.82,10.31',\n",
       " '12541e25,c9f9cb25,43ae9730,43179,5/14/2019 4:00:33 AM,5/14/2019 4:22:53 AM,0,8.1,3.48',\n",
       " '130fa2a9,c9f9cb25,5849b177,43179,5/13/2019 4:21:32 AM,5/13/2019 4:46:11 AM,0.7,4.06,3.23',\n",
       " '26b15d9d,c9f9cb25,c50c2587,43179,8/23/2019 4:45:13 AM,8/23/2019 5:24:31 AM,0,5.82,2.78',\n",
       " '2906bc4b,c9f9cb25,1f5af59b,43179,6/30/2019 3:57:07 AM,6/30/2019 4:16:39 AM,0,4.92,5.74',\n",
       " '3b38737f,c11c5e2b,5cf8910e,43278,5/16/2019 1:06:22 AM,5/16/2019 1:19:58 AM,0,3.65,3.01',\n",
       " '950e9336,c9f9cb25,283c7fd6,43179,6/23/2019 6:08:35 AM,6/23/2019 6:20:23 AM,0,3.18,3.45',\n",
       " '98fc5a75,c9f9cb25,5045cd2e,43179,9/16/2019 1:20:53 AM,9/16/2019 1:46:19 AM,0.3,6.36,5.17',\n",
       " '9d79e6b1,c9f9cb25,0860b144,43179,5/29/2019 9:36:15 AM,5/29/2019 9:49:34 AM,0,5.22,5.61',\n",
       " 'd5197d21,c9f9cb25,918dc7db,43179,9/20/2019 4:47:19 AM,9/20/2019 5:02:26 AM,0,5.05,3.37',\n",
       " 'f3a24f05,c9f9cb25,c740ec59,43179,6/30/2019 6:19:19 AM,6/30/2019 6:36:19 AM,0,5.89,6.29',\n",
       " 'f8936594,c9f9cb25,95e649d6,43179,6/3/2019 7:00:34 AM,6/3/2019 7:23:38 AM,0,6.52,3.76',\n",
       " '3556a177,c9f9cb25,5bdd3688,43179,9/20/2019 7:21:39 AM,9/20/2019 7:31:32 AM,0,2.33,1.2',\n",
       " '3f404826,c9f9cb25,e5b5950f,43179,8/4/2019 1:04:39 PM,8/4/2019 1:17:44 PM,0,4.69,5.02',\n",
       " '3f57e25e,c9f9cb25,043e8c4f,43179,5/18/2019 8:11:07 AM,5/18/2019 8:26:49 AM,0,1.37,3',\n",
       " '406adbb1,c11c5e2b,7124b5bf,43278,9/23/2019 8:07:02 PM,9/23/2019 8:21:03 PM,0,5.82,6.58',\n",
       " '4896a071,c9f9cb25,17919cf4,43179,9/7/2019 8:26:08 AM,9/7/2019 8:44:37 AM,0,2.92,1.33',\n",
       " '5ea62945,c9f9cb25,0401f303,43179,9/14/2019 11:01:50 AM,9/14/2019 11:05:54 AM,0,-0.02,1.41',\n",
       " '625ee50f,c9f9cb25,921d00ce,43179,8/11/2019 9:46:25 AM,8/11/2019 9:52:58 AM,0.7,1.23,5.31',\n",
       " '7874da3e,c11c5e2b,8c69341a,43278,5/15/2019 9:33:10 PM,5/15/2019 11:18:40 PM,0,99.19,62.7',\n",
       " '9202f230,c11c5e2b,2742d9cb,43278,5/18/2019 7:18:55 AM,5/18/2019 7:30:29 AM,0,2.33,3.98',\n",
       " '93b98ea6,c9f9cb25,20a344e9,43179,6/12/2019 12:45:35 AM,6/12/2019 1:00:37 AM,0,2.5,2.96',\n",
       " '9b27e892,c9f9cb25,03dd943e,43179,8/4/2019 9:33:32 AM,8/4/2019 9:52:12 AM,1,2.21,2.85']"
      ]
     },
     "execution_count": 9,
     "metadata": {},
     "output_type": "execute_result"
    }
   ],
   "source": [
    "# 1.3.3\n",
    "\n",
    "# finding the max value\n",
    "result_max_distance = filtered_data.max(key=lambda x: x.split(\",\")[7])\n",
    "print(\"The record with maximum trip distance\\n\")\n",
    "print(result_max_distance)\n",
    "\n",
    "# finding the minimum value\n",
    "result_min_distance = filtered_data.min(key=lambda x: x.split(\",\")[7])\n",
    "print(\"The record with minimum trip distance\\n\")\n",
    "print(result_min_distance)\n",
    "\n",
    "print(\"All other trips they made are:\\n\")\n",
    "\n",
    "# filtering based on id, to find all the trips made by drivers\n",
    "result_trip_data = filtered_data.filter(\n",
    "    lambda x: x.split(\",\")[1] in [result_max_distance.split(\",\")[1], result_min_distance.split(\",\")[1]])\n",
    "result_trip_data.collect()\n"
   ]
  },
  {
   "cell_type": "markdown",
   "id": "57783677",
   "metadata": {},
   "source": [
    "# Part 2 Working with DataFrames"
   ]
  },
  {
   "cell_type": "markdown",
   "id": "078c8fda",
   "metadata": {},
   "source": [
    "## 2.1 Data Preparation and Loading"
   ]
  },
  {
   "cell_type": "markdown",
   "id": "e06781b6",
   "metadata": {},
   "source": [
    "1. Load all trips, passenger, and city data into three separate dataframes. (Hint: you should\n",
    "directly use “inferSchema=True”)\n",
    "\n",
    "2. Display the schema of the final three dataframes."
   ]
  },
  {
   "cell_type": "code",
   "execution_count": 10,
   "id": "b4db70c8",
   "metadata": {},
   "outputs": [
    {
     "name": "stderr",
     "output_type": "stream",
     "text": [
      "[Stage 24:=============================>                            (1 + 1) / 2]\r"
     ]
    },
    {
     "name": "stdout",
     "output_type": "stream",
     "text": [
      "root\n",
      " |-- id: string (nullable = true)\n",
      " |-- driver_id: string (nullable = true)\n",
      " |-- passenger_id: string (nullable = true)\n",
      " |-- city_id: integer (nullable = true)\n",
      " |-- call_time: string (nullable = true)\n",
      " |-- finish_time: string (nullable = true)\n",
      " |-- surge_rate: double (nullable = true)\n",
      " |-- trip_distance: double (nullable = true)\n",
      " |-- trip_fare: double (nullable = true)\n",
      "\n",
      "root\n",
      " |-- id: string (nullable = true)\n",
      " |-- first_call_time: string (nullable = true)\n",
      "\n",
      "root\n",
      " |-- id: integer (nullable = true)\n",
      " |-- name: string (nullable = true)\n",
      "\n"
     ]
    },
    {
     "name": "stderr",
     "output_type": "stream",
     "text": [
      "                                                                                \r"
     ]
    }
   ],
   "source": [
    "# 2.1\n",
    "\n",
    "# create Data frame using inferSchema to find the type of columns\n",
    "trip_df = spark.read.csv(os.getcwd() + \"/data/trip.csv\", header=True, inferSchema=True)\n",
    "passenger_df = spark.read.csv(os.getcwd() + \"/data/passenger.csv\", header=True, inferSchema=True)\n",
    "city_df = spark.read.csv(os.getcwd() + \"/data/city.csv\", header=True, inferSchema=True)\n",
    "\n",
    "# using printSchema to print the schema\n",
    "trip_df.printSchema()\n",
    "passenger_df.printSchema()\n",
    "city_df.printSchema()\n"
   ]
  },
  {
   "cell_type": "markdown",
   "id": "c072a22c",
   "metadata": {},
   "source": [
    "## 2.2 Query/Analysis\n",
    "\n",
    "Implement the following queries using dataframes. You need to be able to perform operations\n",
    "like filtering, sorting, joining and group by using the functions provided by the DataFrame API.\n",
    "The following DF means dataframes.\n",
    "\n",
    "1. Rename ‘id’ in city DF into ‘city_id’.\n",
    "\n",
    "2. Join city DF with trip DF. Delete 'city_id' column and rename 'name' column to 'city'\n",
    "column. (Hint: You should use “inner join”)\n",
    "\n",
    "3. Use joined DF above in 2.2.2, keep the rows in which trip_distance and trip_fare is\n",
    "both larger than 0. Show 5 records after filtering.\n",
    "\n",
    "4. Use the filtered DF above in 2.2.3, show top 5 rows using descending order of\n",
    "trip_distance. (‘id’, ‘driver_id’, ‘passenger_id’ and ‘trip_distance’ should be displayed)"
   ]
  },
  {
   "cell_type": "code",
   "execution_count": 11,
   "id": "badd0751",
   "metadata": {},
   "outputs": [
    {
     "name": "stdout",
     "output_type": "stream",
     "text": [
      "+-------+------------+\n",
      "|city_id|        name|\n",
      "+-------+------------+\n",
      "|  42868|      Mordor|\n",
      "|  42948|      Erebor|\n",
      "|  43006|Minas Tirith|\n",
      "|  43020|    Isengard|\n",
      "|  43050|      Gondor|\n",
      "+-------+------------+\n",
      "only showing top 5 rows\n",
      "\n"
     ]
    }
   ],
   "source": [
    "# 2.2.1\n",
    "\n",
    "# rename the column\n",
    "city_df_transformed = city_df.withColumnRenamed(\"id\", \"city_id\")\n",
    "city_df_transformed.show(5)\n"
   ]
  },
  {
   "cell_type": "code",
   "execution_count": 12,
   "id": "bc5b6b53",
   "metadata": {},
   "outputs": [
    {
     "name": "stdout",
     "output_type": "stream",
     "text": [
      "+--------+---------+------------+--------------------+--------------------+----------+-------------+---------+------------+\n",
      "|      id|driver_id|passenger_id|           call_time|         finish_time|surge_rate|trip_distance|trip_fare|        city|\n",
      "+--------+---------+------------+--------------------+--------------------+----------+-------------+---------+------------+\n",
      "|a84c0db2| cb64172e|    2ea4359d|9/8/2019 10:01:28 PM|9/8/2019 10:15:54 PM|       0.3|         1.92|     4.36|Minas Tirith|\n",
      "|a84c2d10| 3034e6fe|    e1bd0c8d| 7/1/2019 8:56:28 PM| 7/1/2019 9:22:09 PM|       0.0|         9.36|     6.91|Minas Tirith|\n",
      "|a84c3e75| 93fb6802|    75e6d450|8/20/2019 9:30:46 PM|8/20/2019 9:46:48 PM|       0.0|         4.39|     3.48|      Gondor|\n",
      "|a84c3f6f| 25fc9273|    5ba48e89| 9/8/2019 2:42:41 AM| 9/8/2019 2:59:56 AM|       0.0|         2.04|     1.54|    Isengard|\n",
      "|a84c5ce2| 484c4d0c|    fdb2ef59|6/10/2019 9:29:18 AM|6/10/2019 9:55:36 AM|       0.0|         7.37|     5.83|Minas Tirith|\n",
      "+--------+---------+------------+--------------------+--------------------+----------+-------------+---------+------------+\n",
      "only showing top 5 rows\n",
      "\n"
     ]
    }
   ],
   "source": [
    "# 2.2.2\n",
    "\n",
    "# using the inner join to join the trip and city table\n",
    "df_dict_inner_summ = trip_df.join(city_df_transformed, city_df_transformed.city_id == trip_df.city_id, how='inner')\n",
    "\n",
    "# dropping the city_id col and renaming the name to city\n",
    "df_dict_inner_summ_new = df_dict_inner_summ.drop('city_id').withColumnRenamed(\"name\", \"city\")\n",
    "\n",
    "# show top five data\n",
    "df_dict_inner_summ_new.show(5)\n"
   ]
  },
  {
   "cell_type": "code",
   "execution_count": 13,
   "id": "eca6a711",
   "metadata": {},
   "outputs": [
    {
     "name": "stdout",
     "output_type": "stream",
     "text": [
      "+--------+---------+------------+--------------------+--------------------+----------+-------------+---------+------------+\n",
      "|      id|driver_id|passenger_id|           call_time|         finish_time|surge_rate|trip_distance|trip_fare|        city|\n",
      "+--------+---------+------------+--------------------+--------------------+----------+-------------+---------+------------+\n",
      "|a84c0db2| cb64172e|    2ea4359d|9/8/2019 10:01:28 PM|9/8/2019 10:15:54 PM|       0.3|         1.92|     4.36|Minas Tirith|\n",
      "|a84c2d10| 3034e6fe|    e1bd0c8d| 7/1/2019 8:56:28 PM| 7/1/2019 9:22:09 PM|       0.0|         9.36|     6.91|Minas Tirith|\n",
      "|a84c3e75| 93fb6802|    75e6d450|8/20/2019 9:30:46 PM|8/20/2019 9:46:48 PM|       0.0|         4.39|     3.48|      Gondor|\n",
      "|a84c3f6f| 25fc9273|    5ba48e89| 9/8/2019 2:42:41 AM| 9/8/2019 2:59:56 AM|       0.0|         2.04|     1.54|    Isengard|\n",
      "|a84c5ce2| 484c4d0c|    fdb2ef59|6/10/2019 9:29:18 AM|6/10/2019 9:55:36 AM|       0.0|         7.37|     5.83|Minas Tirith|\n",
      "+--------+---------+------------+--------------------+--------------------+----------+-------------+---------+------------+\n",
      "only showing top 5 rows\n",
      "\n"
     ]
    }
   ],
   "source": [
    "# 2.2.3\n",
    "from pyspark.sql.functions import col\n",
    "\n",
    "# filtering data\n",
    "df_dict_inner_summ_filtered = df_dict_inner_summ_new.filter(col(\"trip_distance\") > 0).filter(col(\"trip_fare\") > 0)\n",
    "df_dict_inner_summ_filtered.show(5)\n"
   ]
  },
  {
   "cell_type": "code",
   "execution_count": 14,
   "id": "e7caf0cb",
   "metadata": {},
   "outputs": [
    {
     "name": "stderr",
     "output_type": "stream",
     "text": [
      "[Stage 33:>                                                         (0 + 2) / 2]\r"
     ]
    },
    {
     "name": "stdout",
     "output_type": "stream",
     "text": [
      "+--------+---------+------------+-------------+\n",
      "|      id|driver_id|passenger_id|trip_distance|\n",
      "+--------+---------+------------+-------------+\n",
      "|7f4a1ec5| 704642b5|    771e01b2|        296.1|\n",
      "|30bb5f34| 7119b481|    d5e5e5d8|       261.71|\n",
      "|ac1861e1| ceccad76|    2a2f3fc5|       244.82|\n",
      "|4525a2bf| bdb22ca4|    b7f9f488|       236.14|\n",
      "|b60c4614| 70b9733e|    09ec3959|       235.42|\n",
      "+--------+---------+------------+-------------+\n",
      "only showing top 5 rows\n",
      "\n"
     ]
    },
    {
     "name": "stderr",
     "output_type": "stream",
     "text": [
      "                                                                                \r"
     ]
    }
   ],
   "source": [
    "# 2.2.4\n",
    "\n",
    "# filtering data and showing relevant column\n",
    "df_sort = df_dict_inner_summ_filtered.sort('trip_distance', ascending=False).drop('call_time', 'finish_time',\n",
    "                                                                                  'trip_fare', 'city', 'surge_rate')\n",
    "df_sort.show(5)\n"
   ]
  },
  {
   "cell_type": "markdown",
   "id": "a1e59560",
   "metadata": {},
   "source": [
    "# Trip Analysis"
   ]
  },
  {
   "cell_type": "code",
   "execution_count": 15,
   "id": "51dd911f",
   "metadata": {},
   "outputs": [
    {
     "name": "stderr",
     "output_type": "stream",
     "text": [
      "                                                                                \r"
     ]
    },
    {
     "name": "stdout",
     "output_type": "stream",
     "text": [
      "+--------+---------+------------+--------------------+----------+-------------+---------+------------+----------+\n",
      "|      id|driver_id|passenger_id|           call_time|surge_rate|trip_distance|trip_fare|        city|On Holiday|\n",
      "+--------+---------+------------+--------------------+----------+-------------+---------+------------+----------+\n",
      "|a84c0db2| cb64172e|    2ea4359d|9/8/2019 10:01:28 PM|       0.3|         1.92|     4.36|Minas Tirith|     false|\n",
      "|a84c2d10| 3034e6fe|    e1bd0c8d| 7/1/2019 8:56:28 PM|       0.0|         9.36|     6.91|Minas Tirith|     false|\n",
      "|a84c3e75| 93fb6802|    75e6d450|8/20/2019 9:30:46 PM|       0.0|         4.39|     3.48|      Gondor|     false|\n",
      "|a84c3f6f| 25fc9273|    5ba48e89| 9/8/2019 2:42:41 AM|       0.0|         2.04|     1.54|    Isengard|     false|\n",
      "|a84c5ce2| 484c4d0c|    fdb2ef59|6/10/2019 9:29:18 AM|       0.0|         7.37|     5.83|Minas Tirith|     false|\n",
      "+--------+---------+------------+--------------------+----------+-------------+---------+------------+----------+\n",
      "only showing top 5 rows\n",
      "\n"
     ]
    }
   ],
   "source": [
    "# 2.3.1\n",
    "\n",
    "from pyspark.sql.functions import udf\n",
    "from pyspark.sql.types import BooleanType\n",
    "\n",
    "\n",
    "# function to check if the particular day is holiday or not\n",
    "def isHoliday(data):\n",
    "    split_data = data.split(\" \")\n",
    "    dates = ['1/1/2019', '3/5/2019', '4/19/2019', '4/21/2019', '5/1/2019', '6/20/2019', '9/7/2019', '10/12/2019',\n",
    "             '11/2/2019', '11/15/2019', '12/25/2019']\n",
    "    return split_data[0] in dates\n",
    "\n",
    "\n",
    "# Registering UDF\n",
    "extract_holiday_udf = udf(isHoliday, BooleanType())\n",
    "\n",
    "# creating On Holiday column dropping finish time for clear table view\n",
    "df_trip_analysis = df_dict_inner_summ_new.withColumn(\"On Holiday\", extract_holiday_udf(col(\"call_time\"))).drop(\n",
    "    \"finish_time\")\n",
    "df_trip_analysis.count()\n",
    "df_trip_analysis.show(5)\n"
   ]
  },
  {
   "cell_type": "code",
   "execution_count": 16,
   "id": "4e4975d1",
   "metadata": {},
   "outputs": [
    {
     "name": "stderr",
     "output_type": "stream",
     "text": [
      "[Stage 41:================================================>     (180 + 2) / 200]\r"
     ]
    },
    {
     "name": "stdout",
     "output_type": "stream",
     "text": [
      "+------------+----------+------------------+\n",
      "|        city|On Holiday|     avg trip fare|\n",
      "+------------+----------+------------------+\n",
      "|      Gondor|     false|  5.13122212820313|\n",
      "|      Gondor|      true|5.4218031555221575|\n",
      "|    Isengard|     false| 5.550994994344451|\n",
      "|    Isengard|      true| 5.690277565084232|\n",
      "|Minas Tirith|     false| 4.969949667768408|\n",
      "|Minas Tirith|      true|  5.22092199619494|\n",
      "|   Rivendell|     false| 5.669180818214374|\n",
      "|   Rivendell|      true| 5.851725862931469|\n",
      "|       Rohan|     false| 5.276064985963267|\n",
      "|       Rohan|      true| 5.455164385996093|\n",
      "|   The Shire|     false| 4.995571570029671|\n",
      "|   The Shire|      true| 5.189087501615612|\n",
      "+------------+----------+------------------+\n",
      "\n"
     ]
    },
    {
     "name": "stderr",
     "output_type": "stream",
     "text": [
      "                                                                                \r"
     ]
    }
   ],
   "source": [
    "# 2.3.2\n",
    "import pyspark.sql.functions as F\n",
    "\n",
    "# implementation one using Data frames to calculate average trip fare\n",
    "\n",
    "agg_attribute = 'city'\n",
    "\n",
    "# finding sum and count\n",
    "df_count = df_trip_analysis.select(agg_attribute, 'On Holiday', 'trip_fare').groupby(agg_attribute, \"On Holiday\").agg(\n",
    "    F.count(agg_attribute).alias('Total'), F.sum('trip_fare').alias('Fare Total'))\n",
    "df_avg = df_count.withColumn(\"avg trip fare\", col(\"Fare Total\") / col(\"Total\"))\n",
    "\n",
    "# sorting the column based on city and On holiday\n",
    "df_avg_new = df_avg.drop('Total', 'Fare Total').orderBy(['city', 'On Holiday'], ascending=True)\n",
    "df_avg_new.show(15)\n"
   ]
  },
  {
   "cell_type": "code",
   "execution_count": 17,
   "id": "6204bae5",
   "metadata": {},
   "outputs": [
    {
     "name": "stderr",
     "output_type": "stream",
     "text": [
      "[Stage 43:>                                                         (0 + 2) / 2]\r"
     ]
    },
    {
     "name": "stdout",
     "output_type": "stream",
     "text": [
      "+------------+----------+------------------+\n",
      "|        city|On Holiday|         trip_fare|\n",
      "+------------+----------+------------------+\n",
      "|      Gondor|     false|  5.13122212820313|\n",
      "|      Gondor|      true|5.4218031555221575|\n",
      "|    Isengard|     false| 5.550994994344451|\n",
      "|    Isengard|      true| 5.690277565084232|\n",
      "|Minas Tirith|     false| 4.969949667768408|\n",
      "|Minas Tirith|      true|  5.22092199619494|\n",
      "|   Rivendell|     false| 5.669180818214374|\n",
      "|   Rivendell|      true| 5.851725862931469|\n",
      "|       Rohan|     false| 5.276064985963267|\n",
      "|       Rohan|      true| 5.455164385996093|\n",
      "|   The Shire|     false| 4.995571570029671|\n",
      "|   The Shire|      true| 5.189087501615612|\n",
      "+------------+----------+------------------+\n",
      "\n"
     ]
    },
    {
     "name": "stderr",
     "output_type": "stream",
     "text": [
      "                                                                                \r"
     ]
    }
   ],
   "source": [
    "# Second implementation using SQL\n",
    "\n",
    "# converting DF to SQL\n",
    "df_trip_analysis.createOrReplaceTempView(\"sql_trip_analysis\")\n",
    "\n",
    "sql_distinct_sort = spark.sql('''\n",
    "  SELECT city , `On Holiday`, avg(trip_fare) as trip_fare\n",
    "  FROM sql_trip_analysis\n",
    "  GROUP BY city, `On Holiday`\n",
    "  ORDER BY city, `On Holiday`\n",
    "''')\n",
    "sql_distinct_sort.show(15)\n"
   ]
  },
  {
   "cell_type": "code",
   "execution_count": 18,
   "id": "f6db9682",
   "metadata": {},
   "outputs": [
    {
     "name": "stdout",
     "output_type": "stream",
     "text": [
      "+--------+---------+------------+--------------------+--------------------+----------+-------------+---------+------------+-------+\n",
      "|      id|driver_id|passenger_id|           call_time|         finish_time|surge_rate|trip_distance|trip_fare|        city|weekday|\n",
      "+--------+---------+------------+--------------------+--------------------+----------+-------------+---------+------------+-------+\n",
      "|a84c0db2| cb64172e|    2ea4359d|9/8/2019 10:01:28 PM|9/8/2019 10:15:54 PM|       0.3|         1.92|     4.36|Minas Tirith|    Sun|\n",
      "|a84c2d10| 3034e6fe|    e1bd0c8d| 7/1/2019 8:56:28 PM| 7/1/2019 9:22:09 PM|       0.0|         9.36|     6.91|Minas Tirith|    Mon|\n",
      "|a84c3e75| 93fb6802|    75e6d450|8/20/2019 9:30:46 PM|8/20/2019 9:46:48 PM|       0.0|         4.39|     3.48|      Gondor|    Tue|\n",
      "|a84c3f6f| 25fc9273|    5ba48e89| 9/8/2019 2:42:41 AM| 9/8/2019 2:59:56 AM|       0.0|         2.04|     1.54|    Isengard|    Sun|\n",
      "|a84c5ce2| 484c4d0c|    fdb2ef59|6/10/2019 9:29:18 AM|6/10/2019 9:55:36 AM|       0.0|         7.37|     5.83|Minas Tirith|    Mon|\n",
      "+--------+---------+------------+--------------------+--------------------+----------+-------------+---------+------------+-------+\n",
      "only showing top 5 rows\n",
      "\n"
     ]
    },
    {
     "name": "stderr",
     "output_type": "stream",
     "text": [
      "Traceback (most recent call last):\n",
      "  File \"/usr/local/lib/python3.8/dist-packages/pyspark/python/lib/pyspark.zip/pyspark/daemon.py\", line 186, in manager\n",
      "  File \"/usr/local/lib/python3.8/dist-packages/pyspark/python/lib/pyspark.zip/pyspark/daemon.py\", line 74, in worker\n",
      "  File \"/usr/local/lib/python3.8/dist-packages/pyspark/python/lib/pyspark.zip/pyspark/worker.py\", line 642, in main\n",
      "    if read_int(infile) == SpecialLengths.END_OF_STREAM:\n",
      "  File \"/usr/local/lib/python3.8/dist-packages/pyspark/python/lib/pyspark.zip/pyspark/serializers.py\", line 595, in read_int\n",
      "    raise EOFError\n",
      "EOFError\n"
     ]
    }
   ],
   "source": [
    "# 2.3.3\n",
    "from pyspark.sql.functions import *\n",
    "from pyspark.sql.functions import udf\n",
    "from pyspark.sql.types import StringType\n",
    "\n",
    "\n",
    "# function to change date format\n",
    "def day_generator(data):\n",
    "    split_data = data.split(\" \")\n",
    "    date = split_data[0]\n",
    "    return date.replace(\"/\", \"-\")\n",
    "\n",
    "\n",
    "# Registering UDF\n",
    "extract_converter_udf = udf(day_generator, StringType())\n",
    "\n",
    "# making temp_col to store updated date format\n",
    "df_trip = df_dict_inner_summ_new.withColumn(\"temp_col\", extract_converter_udf(col('call_time')))\n",
    "\n",
    "# using date_format and to_date to get day of the week\n",
    "df_day = df_trip.withColumn(\"weekday\", date_format(to_date(col(\"temp_col\"), 'M-d-yyyy'), \"E\")).drop(\"temp_col\")\n",
    "\n",
    "df_day.show(5)\n"
   ]
  },
  {
   "cell_type": "code",
   "execution_count": 19,
   "id": "1941835a",
   "metadata": {},
   "outputs": [
    {
     "name": "stderr",
     "output_type": "stream",
     "text": [
      "                                                                                \r"
     ]
    },
    {
     "name": "stdout",
     "output_type": "stream",
     "text": [
      "+------------+-------+-----+------------------+\n",
      "|        city|weekday|Count|        Percentage|\n",
      "+------------+-------+-----+------------------+\n",
      "|      Gondor|    Tue|39995| 12.55733926951105|\n",
      "|      Gondor|    Wed|40900| 12.84148458864863|\n",
      "|      Gondor|    Mon|45502|14.286387084417848|\n",
      "|      Gondor|    Thu|42607|13.377436035905921|\n",
      "|      Gondor|    Sun|52755| 16.56363128298676|\n",
      "|      Gondor|    Sat|51117|16.049343953984156|\n",
      "|      Gondor|    Fri|45623|14.324377784545634|\n",
      "|    Isengard|    Tue|41060|12.160593280576222|\n",
      "|    Isengard|    Thu|46326|13.720205657963321|\n",
      "|    Isengard|    Wed|43526|12.890939676823201|\n",
      "|    Isengard|    Sun|55741|16.508612519546983|\n",
      "|    Isengard|    Mon|43823| 12.97890110410842|\n",
      "|    Isengard|    Fri|49305|14.602485428612047|\n",
      "|    Isengard|    Sat|57867|17.138262332369806|\n",
      "|Minas Tirith|    Thu|57369| 13.69531744231848|\n",
      "|Minas Tirith|    Sun|67379|16.084937752897506|\n",
      "|Minas Tirith|    Fri|61216|14.613686007233317|\n",
      "|Minas Tirith|    Sat|69616|16.618961792334595|\n",
      "|Minas Tirith|    Tue|53583|12.791510999176406|\n",
      "|Minas Tirith|    Mon|53856|12.856682462192195|\n",
      "|Minas Tirith|    Wed|55876|13.338903543847502|\n",
      "|   Rivendell|    Mon|58549|15.071924296717329|\n",
      "|   Rivendell|    Fri|53027|13.650428353721322|\n",
      "|   Rivendell|    Wed|47936|12.339882202726637|\n",
      "|   Rivendell|    Sun|69820|17.973351455990773|\n",
      "|   Rivendell|    Sat|64014| 16.47874706536513|\n",
      "|   Rivendell|    Thu|48803|12.563068907286132|\n",
      "|   Rivendell|    Tue|46315|11.922597718192677|\n",
      "|       Rohan|    Sun|61518|16.835934613584676|\n",
      "|       Rohan|    Sat|59630| 16.31923633746309|\n",
      "|       Rohan|    Mon|52380| 14.33509306316144|\n",
      "|       Rohan|    Tue|45175|12.363265160907178|\n",
      "|       Rohan|    Wed|45848|12.547448391749247|\n",
      "|       Rohan|    Thu|48198| 13.19058448755737|\n",
      "|       Rohan|    Fri|52648|14.408437945577003|\n",
      "|   The Shire|    Wed|66081|13.500962296763333|\n",
      "|   The Shire|    Fri|73790|15.075982625537845|\n",
      "|   The Shire|    Mon|60923|12.447134970804202|\n",
      "|   The Shire|    Thu|69247|14.147805513899161|\n",
      "|   The Shire|    Sun|74358|15.192030303154128|\n",
      "|   The Shire|    Tue|61745|12.615077208481287|\n",
      "|   The Shire|    Sat|83310|17.021007081360047|\n",
      "+------------+-------+-----+------------------+\n",
      "\n"
     ]
    },
    {
     "name": "stderr",
     "output_type": "stream",
     "text": [
      "                                                                                \r"
     ]
    },
    {
     "data": {
      "text/plain": [
       "42"
      ]
     },
     "execution_count": 19,
     "metadata": {},
     "output_type": "execute_result"
    }
   ],
   "source": [
    "# 2.3.4\n",
    "\n",
    "\n",
    "agg_attribute = 'city'\n",
    "\n",
    "# creating a temprory to store count values \n",
    "df_count_day = df_day.select(agg_attribute, 'weekday', 'trip_fare').groupby(agg_attribute, \"weekday\").agg(\n",
    "    F.count(agg_attribute).alias('Count')).sort(\"city\")\n",
    "\n",
    "# counting the sum of total trips\n",
    "total_count_day = df_count_day.select(agg_attribute, 'Count').groupby(agg_attribute).agg(\n",
    "    F.sum('Count').alias('T-Count')).sort(\"city\").withColumnRenamed(\"city\", \"city_new\")\n",
    "\n",
    "# joining two tables to calculate percentage\n",
    "df_dict_inner_day = df_count_day.join(total_count_day, df_count.city == total_count_day.city_new,\n",
    "                                      how='left').withColumn(\"Percentage\", (col(\"count\") / col(\"T-Count\")) * 100).drop(\n",
    "    \"city_new\", \"T-Count\").sort(\"city\")\n",
    "df_dict_inner_day.show(50)\n",
    "df_dict_inner_day.count()\n"
   ]
  },
  {
   "cell_type": "code",
   "execution_count": 20,
   "id": "8cb958d8",
   "metadata": {},
   "outputs": [
    {
     "name": "stderr",
     "output_type": "stream",
     "text": [
      "                                                                                \r"
     ]
    },
    {
     "data": {
      "image/png": "[encoded data removed]",
      "text/plain": [
       "<Figure size 432x288 with 1 Axes>"
      ]
     },
     "metadata": {
      "needs_background": "light"
     },
     "output_type": "display_data"
    }
   ],
   "source": [
    "# 2.3.5\n",
    "\n",
    "import matplotlib.pyplot as plt\n",
    "import numpy as np\n",
    "\n",
    "# converting Data frames to list filtering the data based on day\n",
    "mon = df_dict_inner_day.select(\"weekday\", \"Percentage\").filter(col(\"weekday\") == \"Mon\").drop(\"weekday\").rdd.flatMap(\n",
    "    lambda x: x).collect()\n",
    "tue = df_dict_inner_day.select(\"weekday\", \"Percentage\").filter(col(\"weekday\") == \"Tue\").drop(\"weekday\").rdd.flatMap(\n",
    "    lambda x: x).collect()\n",
    "wed = df_dict_inner_day.select(\"weekday\", \"Percentage\").filter(col(\"weekday\") == \"Wed\").drop(\"weekday\").rdd.flatMap(\n",
    "    lambda x: x).collect()\n",
    "thu = df_dict_inner_day.select(\"weekday\", \"Percentage\").filter(col(\"weekday\") == \"Thu\").drop(\"weekday\").rdd.flatMap(\n",
    "    lambda x: x).collect()\n",
    "fri = df_dict_inner_day.select(\"weekday\", \"Percentage\").filter(col(\"weekday\") == \"Fri\").drop(\"weekday\").rdd.flatMap(\n",
    "    lambda x: x).collect()\n",
    "sat = df_dict_inner_day.select(\"weekday\", \"Percentage\").filter(col(\"weekday\") == \"Sat\").drop(\"weekday\").rdd.flatMap(\n",
    "    lambda x: x).collect()\n",
    "sun = df_dict_inner_day.select(\"weekday\", \"Percentage\").filter(col(\"weekday\") == \"Sun\").drop(\"weekday\").rdd.flatMap(\n",
    "    lambda x: x).collect()\n",
    "\n",
    "# getting the distinct city values\n",
    "city = df_dict_inner_day.select(\"city\").distinct().rdd.flatMap(lambda x: x).collect()\n",
    "\n",
    "# plotting barchart using matplotlib\n",
    "X_axis = np.arange(len(city))\n",
    "\n",
    "width = 0.1  # the width of the bars\n",
    "\n",
    "fig = plt.figure()\n",
    "ax = fig.add_axes([.1, .1, 3, 3])\n",
    "\n",
    "ax.bar(X_axis + .1, mon, width, label='Monday')\n",
    "ax.bar(X_axis + .2, tue, width, label='Tuesday')\n",
    "ax.bar(X_axis + .3, wed, width, label='Wednesday')\n",
    "ax.bar(X_axis, thu, width, label='Thursday')\n",
    "ax.bar(X_axis - .1, fri, width, label='Friday')\n",
    "ax.bar(X_axis - .2, sat, width, label='Saturday')\n",
    "ax.bar(X_axis - .3, sun, width, label='Sunday')\n",
    "\n",
    "ax.set_xlabel('City')\n",
    "ax.set_ylabel('Percentage')\n",
    "ax.set_title('Weekly city percentage report')\n",
    "ax.set_xticks(X_axis, city)\n",
    "ax.legend()\n",
    "\n",
    "plt.show()\n"
   ]
  },
  {
   "cell_type": "markdown",
   "id": "5a4dc77f",
   "metadata": {},
   "source": [
    "### As we can see the growth was higher on weekends compared to weekdays"
   ]
  },
  {
   "cell_type": "markdown",
   "id": "2d168679",
   "metadata": {},
   "source": [
    "## Part 3 RDDs vs DataFrame vs Spark SQL"
   ]
  },
  {
   "cell_type": "markdown",
   "id": "cfe8f139",
   "metadata": {},
   "source": [
    "Implement the following queries using RDDs, DataFrames and SparkSQL separately. Log the\n",
    "time taken for each query in each approach using the “%%time” built-in magic command in\n",
    "Jupyter Notebook and discuss the performance difference between these 3 approaches.\n",
    "Note: Students could research and/or think of other ways to compare the performance of the 3\n",
    "approaches rather than rely on the \"%%time\" command.\n",
    "\n",
    "Query: Join the trip and city csv based on 'city_id', only keep all the data in 'Minas Tirith' city,\n",
    "show id of trip, city name, and call time in the output."
   ]
  },
  {
   "cell_type": "code",
   "execution_count": 21,
   "id": "5304282b",
   "metadata": {},
   "outputs": [
    {
     "name": "stdout",
     "output_type": "stream",
     "text": [
      "Time elapsed for RDD:  0.02765178680419922\n"
     ]
    },
    {
     "name": "stderr",
     "output_type": "stream",
     "text": [
      "                                                                                \r"
     ]
    },
    {
     "data": {
      "text/plain": [
       "[('43006', (['a84c0db2', '9/8/2019 10:01:28 PM'], 'Minas Tirith')),\n",
       " ('43006', (['a84c2d10', '7/1/2019 8:56:28 PM'], 'Minas Tirith')),\n",
       " ('43006', (['a84c5ce2', '6/10/2019 9:29:18 AM'], 'Minas Tirith')),\n",
       " ('43006', (['a84ceb22', '6/30/2019 3:09:18 AM'], 'Minas Tirith')),\n",
       " ('43006', (['a84d29a0', '8/11/2019 9:49:49 PM'], 'Minas Tirith')),\n",
       " ('43006', (['a84d31ee', '7/7/2019 11:53:51 PM'], 'Minas Tirith')),\n",
       " ('43006', (['a84d8d16', '6/24/2019 7:25:16 AM'], 'Minas Tirith')),\n",
       " ('43006', (['a84dbd8a', '7/1/2019 9:56:52 PM'], 'Minas Tirith')),\n",
       " ('43006', (['a84dc20a', '6/13/2019 2:42:58 AM'], 'Minas Tirith')),\n",
       " ('43006', (['a84dfcb7', '7/27/2019 6:19:44 PM'], 'Minas Tirith'))]"
      ]
     },
     "execution_count": 21,
     "metadata": {},
     "output_type": "execute_result"
    }
   ],
   "source": [
    "import time\n",
    "\n",
    "# RDD Implementation\n",
    "\n",
    "# geting RDD from file\n",
    "city_data = sc.textFile(os.getcwd() + \"/data/city.csv\")\n",
    "\n",
    "# getting first row\n",
    "header_city = city_data.first()\n",
    "\n",
    "# filtering first row to remove header\n",
    "city_data_new = city_data.filter(lambda row: row != header_city)\n",
    "\n",
    "# making key value pair where key is ID\n",
    "trip_data_new = trip_data.map(lambda x: (x.split(\",\")[3], [x.split(\",\")[0], x.split(\",\")[4]]))\n",
    "\n",
    "# making key value pair and filtering based on city name\n",
    "key_val_city = city_data.map(lambda x: (x.split(\",\")[0], x.split(\",\")[1])).filter(lambda y: y[1] == \"Minas Tirith\")\n",
    "\n",
    "# using time to calcualte total time taken\n",
    "t0 = time.time()\n",
    "join = trip_data_new.join(key_val_city)\n",
    "\n",
    "t1 = time.time() - t0\n",
    "print(\"Time elapsed for RDD: \", t1)  # CPU seconds elapsed (floating point)\n",
    "join.take(10)\n"
   ]
  },
  {
   "cell_type": "code",
   "execution_count": 22,
   "id": "dfb402eb",
   "metadata": {},
   "outputs": [
    {
     "name": "stdout",
     "output_type": "stream",
     "text": [
      "Time elapsed for SQL:  0.017052173614501953\n",
      "+--------+------------+--------------------+\n",
      "|      id|        name|           call_time|\n",
      "+--------+------------+--------------------+\n",
      "|a84c0db2|Minas Tirith|9/8/2019 10:01:28 PM|\n",
      "|a84c2d10|Minas Tirith| 7/1/2019 8:56:28 PM|\n",
      "|a84c5ce2|Minas Tirith|6/10/2019 9:29:18 AM|\n",
      "|a84ceb22|Minas Tirith|6/30/2019 3:09:18 AM|\n",
      "|a84d29a0|Minas Tirith|8/11/2019 9:49:49 PM|\n",
      "|a84d31ee|Minas Tirith|7/7/2019 11:53:51 PM|\n",
      "|a84d8d16|Minas Tirith|6/24/2019 7:25:16 AM|\n",
      "|a84dbd8a|Minas Tirith| 7/1/2019 9:56:52 PM|\n",
      "|a84dc20a|Minas Tirith|6/13/2019 2:42:58 AM|\n",
      "|a84dfcb7|Minas Tirith|7/27/2019 6:19:44 PM|\n",
      "+--------+------------+--------------------+\n",
      "only showing top 10 rows\n",
      "\n"
     ]
    }
   ],
   "source": [
    "# SQL implementation\n",
    "\n",
    "# creating table view for SQL query\n",
    "trip_df.createOrReplaceTempView(\"sql_trip\")\n",
    "city_df.createOrReplaceTempView('sql_city')\n",
    "\n",
    "# using time to calculate time taken to run\n",
    "t0 = time.time()\n",
    "sql_join = spark.sql(\n",
    "    \"\"\"\n",
    "    SELECT sql_trip.id,name,call_time\n",
    "    FROM sql_city join sql_trip on sql_city.id = sql_trip.city_id\n",
    "    WHERE name = \"Minas Tirith\"\n",
    "    \"\"\")\n",
    "\n",
    "t1 = time.time() - t0\n",
    "print(\"Time elapsed for SQL: \", t1)  # CPU seconds elapsed (floating point)\n",
    "sql_join.show(10)\n"
   ]
  },
  {
   "cell_type": "code",
   "execution_count": 23,
   "id": "39c7b3ab",
   "metadata": {},
   "outputs": [
    {
     "name": "stdout",
     "output_type": "stream",
     "text": [
      "Time elapsed for Data frames:  0.012796640396118164\n",
      "+--------+-------+------------+\n",
      "|      id|city_id|        name|\n",
      "+--------+-------+------------+\n",
      "|a84c0db2|  43006|Minas Tirith|\n",
      "|a84c2d10|  43006|Minas Tirith|\n",
      "|a84c5ce2|  43006|Minas Tirith|\n",
      "|a84ceb22|  43006|Minas Tirith|\n",
      "|a84d29a0|  43006|Minas Tirith|\n",
      "|a84d31ee|  43006|Minas Tirith|\n",
      "|a84d8d16|  43006|Minas Tirith|\n",
      "|a84dbd8a|  43006|Minas Tirith|\n",
      "|a84dc20a|  43006|Minas Tirith|\n",
      "|a84dfcb7|  43006|Minas Tirith|\n",
      "+--------+-------+------------+\n",
      "only showing top 10 rows\n",
      "\n"
     ]
    }
   ],
   "source": [
    "# Data Frame Implementation\n",
    "rename_col = city_df.withColumnRenamed(\"id\", \"temp_id\")\n",
    "\n",
    "# Using time to calculate the time taken\n",
    "t0 = time.time()\n",
    "df_join = trip_df.select(\"id\", \"city_id\").join(rename_col, trip_df.city_id == rename_col.temp_id, how='inner').filter(\n",
    "    col(\"name\") == \"Minas Tirith\").drop(\"temp_id\")\n",
    "t1 = time.time() - t0\n",
    "\n",
    "print(\"Time elapsed for Data frames: \", t1)  # CPU seconds elapsed (floating point)\n",
    "df_join.show(10)\n"
   ]
  },
  {
   "cell_type": "markdown",
   "id": "eb1b2083",
   "metadata": {},
   "source": [
    "### As we can see the time taken by Data frames is faster comapared to SQL implementation and RDD, Whereas RDD implementation is the slowest. "
   ]
  },
  {
   "cell_type": "code",
   "execution_count": null,
   "id": "c34a90bd",
   "metadata": {},
   "outputs": [],
   "source": []
  }
 ],
 "metadata": {
  "kernelspec": {
   "display_name": "Python 3 (ipykernel)",
   "language": "python",
   "name": "python3"
  },
  "language_info": {
   "codemirror_mode": {
    "name": "ipython",
    "version": 3
   },
   "file_extension": ".py",
   "mimetype": "text/x-python",
   "name": "python",
   "nbconvert_exporter": "python",
   "pygments_lexer": "ipython3",
   "version": "3.8.10"
  }
 },
 "nbformat": 4,
 "nbformat_minor": 5
}
