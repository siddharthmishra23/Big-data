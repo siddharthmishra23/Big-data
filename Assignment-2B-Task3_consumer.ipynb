{
 "cells": [
  {
   "cell_type": "markdown",
   "id": "309ebe4e",
   "metadata": {},
   "source": [
    "### 3. Consuming data using Kafka (15%)"
   ]
  },
  {
   "cell_type": "markdown",
   "id": "18d395db",
   "metadata": {},
   "source": [
    "In this task, we will implement an Apache Kafka consumer to consume the data from task 2.8.\n",
    "\n",
    "Important:\n",
    "\n",
    "In this task, use Kafka consumer to consume the streaming data published from task 2.8.\n",
    "\n",
    "Do not use Spark in this task \n",
    "\n",
    "Your program should consume the latest data and display them on the map(only for the latest data, abandon the old data). The map should be refreshed whenever a new batch of data is consumed. And the number of top-up customers of each state should be shown on maps (like a Choropleth map or heatmap with legend).Hint - you can use libraries like Plotly or folium to show data on a map, please also provide instructions on how to install your plotting library."
   ]
  },
  {
   "cell_type": "code",
   "execution_count": 1,
   "id": "80074428",
   "metadata": {},
   "outputs": [
    {
     "name": "stdout",
     "output_type": "stream",
     "text": [
      "Requirement already satisfied: Plotly in /srv/home/smis0018/.local/lib/python3.8/site-packages (5.10.0)\n",
      "Requirement already satisfied: tenacity>=6.2.0 in /srv/home/smis0018/.local/lib/python3.8/site-packages (from Plotly) (8.1.0)\n"
     ]
    }
   ],
   "source": [
    "!pip install Plotly"
   ]
  },
  {
   "cell_type": "code",
   "execution_count": 2,
   "id": "085d8363",
   "metadata": {},
   "outputs": [],
   "source": [
    "from time import sleep\n",
    "from kafka3 import KafkaConsumer\n",
    "import datetime as dt\n",
    "import matplotlib\n",
    "import matplotlib.pyplot as plt"
   ]
  },
  {
   "cell_type": "code",
   "execution_count": 3,
   "id": "7a15d4c8",
   "metadata": {},
   "outputs": [],
   "source": [
    "# this line is needed for the inline display of graphs in Jupyter Notebook\n",
    "%matplotlib notebook"
   ]
  },
  {
   "cell_type": "code",
   "execution_count": 4,
   "id": "a5bd2405",
   "metadata": {},
   "outputs": [],
   "source": [
    "\n",
    "topic = \"top_up_customer\"\n",
    "def connect_kafka_consumer():\n",
    "    _consumer = None\n",
    "    try:\n",
    "         _consumer = KafkaConsumer(topic,\n",
    "                                   consumer_timeout_ms=10000, # stop iteration if no message after 10 sec\n",
    "                                   auto_offset_reset='earliest', # comment this if you don't want to consume earliest available message\n",
    "                                   bootstrap_servers=['localhost:9092'],\n",
    "                                   api_version=(0, 10))\n",
    "    except Exception as ex:\n",
    "        print('Exception while connecting Kafka')\n",
    "        print(str(ex))\n",
    "    finally:\n",
    "        return _consumer"
   ]
  },
  {
   "cell_type": "code",
   "execution_count": 5,
   "id": "b8e73b58",
   "metadata": {},
   "outputs": [],
   "source": [
    "from urllib.request import urlopen\n",
    "import pandas as pd\n",
    "import plotly.express as px\n",
    "import json\n",
    "# loading json statewise data\n",
    "with urlopen('https://raw.githubusercontent.com/Subhash9325/GeoJson-Data-of-Indian-States/master/Indian_States') as response:\n",
    "    states = json.load(response)\n",
    "\n"
   ]
  },
  {
   "cell_type": "code",
   "execution_count": 6,
   "id": "6f3730ce",
   "metadata": {},
   "outputs": [
    {
     "data": {
      "text/plain": [
       "{'ID_0': 105,\n",
       " 'ISO': 'IND',\n",
       " 'NAME_0': 'India',\n",
       " 'ID_1': 1,\n",
       " 'NAME_1': 'Andaman and Nicobar',\n",
       " 'NL_NAME_1': '',\n",
       " 'VARNAME_1': 'Andaman & Nicobar Islands|Andaman et Nicobar|Iihas de Andama e Nicobar|Inseln Andamanen und Nikobare',\n",
       " 'TYPE_1': 'Union Territor',\n",
       " 'ENGTYPE_1': 'Union Territory',\n",
       " 'filename': '',\n",
       " 'filename_1': '',\n",
       " 'filename_2': '',\n",
       " 'filename_3': '',\n",
       " 'filename_4': ''}"
      ]
     },
     "execution_count": 6,
     "metadata": {},
     "output_type": "execute_result"
    }
   ],
   "source": [
    "states[\"features\"][0][\"properties\"]"
   ]
  },
  {
   "cell_type": "code",
   "execution_count": 7,
   "id": "1bf6c140",
   "metadata": {},
   "outputs": [],
   "source": [
    "from IPython.display import clear_output\n",
    "def consume_plot(consumer):\n",
    "    try:\n",
    "        # mapper to map states with unique ID\n",
    "        state_mapper = {}\n",
    "        for feature in states[\"features\"]:\n",
    "            feature['id'] = feature[\"properties\"]['ID_1']\n",
    "            state_mapper[feature[\"properties\"]['NAME_1']] = feature['id']\n",
    "        # print('Waiting for messages')\n",
    "        for resp in consumer:\n",
    "            response = eval(resp.value)\n",
    "            # to store state and its count\n",
    "            state_count_info = {}\n",
    "            for itr in range(len(response)):\n",
    "                state_count_info[response[itr]['State']] = response[itr]['count']\n",
    "            list_of_states = []\n",
    "            # loop to make list of obj with state, id, count\n",
    "            for i,j in state_count_info.items():\n",
    "                temp_obj = {}\n",
    "                temp_obj[\"State\"] = i\n",
    "                temp_obj[\"id\"] = state_mapper[i]\n",
    "                temp_obj[\"count\"] = j\n",
    "                list_of_states.append(temp_obj)\n",
    "            # pandas to create df of the list generated\n",
    "            df_states = pd.DataFrame(list_of_states)\n",
    "            # abaodon old data\n",
    "            clear_output()\n",
    "            # plot map, show state and count on hover\n",
    "            fig = px.choropleth(df_states, geojson=states, \n",
    "                                locations='id', color='count',\n",
    "                                color_continuous_scale=\"Viridis\",\n",
    "                                range_color=(0, 12),\n",
    "                                hover_name=\"State\",\n",
    "                                hover_data=['count']\n",
    "                                      )\n",
    "            fig.update_geos(fitbounds=\"locations\", visible=False)\n",
    "            fig.show()\n",
    "    except Exception as ex:\n",
    "        print(str(ex))"
   ]
  },
  {
   "cell_type": "code",
   "execution_count": 8,
   "id": "864895c2",
   "metadata": {},
   "outputs": [],
   "source": [
    "if __name__ == '__main__':\n",
    "    consumer = connect_kafka_consumer()\n",
    "    consume_plot(consumer)"
   ]
  },
  {
   "cell_type": "markdown",
   "id": "52315161",
   "metadata": {},
   "source": [
    "#### References\n",
    "\n",
    "For loading JSON\n",
    "\n",
    "https://plotly.com/python/choropleth-maps/\n",
    "\n",
    "For Ploting india map\n",
    "\n",
    "https://www.youtube.com/watch?v=aJmaw3QKMvk\n",
    "\n",
    "For abandon old data\n"
   ]
  },
  {
   "cell_type": "code",
   "execution_count": null,
   "id": "06715ab2",
   "metadata": {},
   "outputs": [],
   "source": []
  }
 ],
 "metadata": {
  "kernelspec": {
   "display_name": "Python 3 (ipykernel)",
   "language": "python",
   "name": "python3"
  },
  "language_info": {
   "codemirror_mode": {
    "name": "ipython",
    "version": 3
   },
   "file_extension": ".py",
   "mimetype": "text/x-python",
   "name": "python",
   "nbconvert_exporter": "python",
   "pygments_lexer": "ipython3",
   "version": "3.9.12"
  }
 },
 "nbformat": 4,
 "nbformat_minor": 5
}
